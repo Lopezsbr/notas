{
  "nbformat": 4,
  "nbformat_minor": 0,
  "metadata": {
    "colab": {
      "provenance": [],
      "authorship_tag": "ABX9TyNbtMd19YALeOD057aU/Jaz",
      "include_colab_link": true
    },
    "kernelspec": {
      "name": "python3",
      "display_name": "Python 3"
    },
    "language_info": {
      "name": "python"
    }
  },
  "cells": [
    {
      "cell_type": "markdown",
      "metadata": {
        "id": "view-in-github",
        "colab_type": "text"
      },
      "source": [
        "<a href=\"https://colab.research.google.com/github/Lopezsbr/notas/blob/main/hhhh.ipynb\" target=\"_parent\"><img src=\"https://colab.research.google.com/assets/colab-badge.svg\" alt=\"Open In Colab\"/></a>"
      ]
    },
    {
      "cell_type": "code",
      "execution_count": 3,
      "metadata": {
        "colab": {
          "base_uri": "https://localhost:8080/"
        },
        "id": "slNceNjNbJl7",
        "outputId": "67f6ed38-5fe6-4dfa-91d1-5a7af1c4162b"
      },
      "outputs": [
        {
          "output_type": "stream",
          "name": "stdout",
          "text": [
            "o saldo deste mês é 440\n",
            "o gasto com os grupos neste mês é 1200, o gasto com o condominio é 500\n"
          ]
        }
      ],
      "source": [
        "condominio = 500\n",
        "cccx = 1500\n",
        "apartamento = 1500\n",
        "ccnu = 3000\n",
        "cpfl = 100\n",
        "claro = 130\n",
        "vivo = 130\n",
        "grupop = 1200\n",
        "grupor = 2700\n",
        "trz = 2000\n",
        "firma = 7800\n",
        "\n",
        "gasto_mes = condominio + cccx + apartamento + ccnu + claro + vivo + grupop + cpfl +trz\n",
        "recebe_mes = grupor + firma\n",
        "mes = recebe_mes - gasto_mes\n",
        "\n",
        "print (\"o saldo deste mês é\" , mes)\n",
        "texto = f\"o gasto com os grupos neste mês é {grupop}, o gasto com o condominio é {condominio}\"\n",
        "print (texto)"
      ]
    }
  ]
}